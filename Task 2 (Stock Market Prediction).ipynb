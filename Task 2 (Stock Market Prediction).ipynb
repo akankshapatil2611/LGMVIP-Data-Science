{
 "cells": [
  {
   "cell_type": "code",
   "execution_count": 1,
   "metadata": {},
   "outputs": [],
   "source": [
    "import pandas as pd"
   ]
  },
  {
   "cell_type": "code",
   "execution_count": 3,
   "metadata": {},
   "outputs": [
    {
     "data": {
      "text/html": [
       "<div>\n",
       "<style scoped>\n",
       "    .dataframe tbody tr th:only-of-type {\n",
       "        vertical-align: middle;\n",
       "    }\n",
       "\n",
       "    .dataframe tbody tr th {\n",
       "        vertical-align: top;\n",
       "    }\n",
       "\n",
       "    .dataframe thead th {\n",
       "        text-align: right;\n",
       "    }\n",
       "</style>\n",
       "<table border=\"1\" class=\"dataframe\">\n",
       "  <thead>\n",
       "    <tr style=\"text-align: right;\">\n",
       "      <th></th>\n",
       "      <th>Date</th>\n",
       "      <th>Open</th>\n",
       "      <th>High</th>\n",
       "      <th>Low</th>\n",
       "      <th>Last</th>\n",
       "      <th>Close</th>\n",
       "      <th>Total Trade Quantity</th>\n",
       "      <th>Turnover (Lacs)</th>\n",
       "    </tr>\n",
       "  </thead>\n",
       "  <tbody>\n",
       "    <tr>\n",
       "      <th>0</th>\n",
       "      <td>2018-09-28</td>\n",
       "      <td>234.05</td>\n",
       "      <td>235.95</td>\n",
       "      <td>230.20</td>\n",
       "      <td>233.50</td>\n",
       "      <td>233.75</td>\n",
       "      <td>3069914</td>\n",
       "      <td>7162.35</td>\n",
       "    </tr>\n",
       "    <tr>\n",
       "      <th>1</th>\n",
       "      <td>2018-09-27</td>\n",
       "      <td>234.55</td>\n",
       "      <td>236.80</td>\n",
       "      <td>231.10</td>\n",
       "      <td>233.80</td>\n",
       "      <td>233.25</td>\n",
       "      <td>5082859</td>\n",
       "      <td>11859.95</td>\n",
       "    </tr>\n",
       "    <tr>\n",
       "      <th>2</th>\n",
       "      <td>2018-09-26</td>\n",
       "      <td>240.00</td>\n",
       "      <td>240.00</td>\n",
       "      <td>232.50</td>\n",
       "      <td>235.00</td>\n",
       "      <td>234.25</td>\n",
       "      <td>2240909</td>\n",
       "      <td>5248.60</td>\n",
       "    </tr>\n",
       "    <tr>\n",
       "      <th>3</th>\n",
       "      <td>2018-09-25</td>\n",
       "      <td>233.30</td>\n",
       "      <td>236.75</td>\n",
       "      <td>232.00</td>\n",
       "      <td>236.25</td>\n",
       "      <td>236.10</td>\n",
       "      <td>2349368</td>\n",
       "      <td>5503.90</td>\n",
       "    </tr>\n",
       "    <tr>\n",
       "      <th>4</th>\n",
       "      <td>2018-09-24</td>\n",
       "      <td>233.55</td>\n",
       "      <td>239.20</td>\n",
       "      <td>230.75</td>\n",
       "      <td>234.00</td>\n",
       "      <td>233.30</td>\n",
       "      <td>3423509</td>\n",
       "      <td>7999.55</td>\n",
       "    </tr>\n",
       "  </tbody>\n",
       "</table>\n",
       "</div>"
      ],
      "text/plain": [
       "         Date    Open    High     Low    Last   Close  Total Trade Quantity  \\\n",
       "0  2018-09-28  234.05  235.95  230.20  233.50  233.75               3069914   \n",
       "1  2018-09-27  234.55  236.80  231.10  233.80  233.25               5082859   \n",
       "2  2018-09-26  240.00  240.00  232.50  235.00  234.25               2240909   \n",
       "3  2018-09-25  233.30  236.75  232.00  236.25  236.10               2349368   \n",
       "4  2018-09-24  233.55  239.20  230.75  234.00  233.30               3423509   \n",
       "\n",
       "   Turnover (Lacs)  \n",
       "0          7162.35  \n",
       "1         11859.95  \n",
       "2          5248.60  \n",
       "3          5503.90  \n",
       "4          7999.55  "
      ]
     },
     "execution_count": 3,
     "metadata": {},
     "output_type": "execute_result"
    }
   ],
   "source": [
    "data = pd.read_csv(\"https://raw.githubusercontent.com/mwitiderrick/stockprice/master/NSE-TATAGLOBAL.csv\")\n",
    "data.head()"
   ]
  },
  {
   "cell_type": "markdown",
   "metadata": {},
   "source": [
    "# Data Analysis"
   ]
  },
  {
   "cell_type": "code",
   "execution_count": 4,
   "metadata": {},
   "outputs": [
    {
     "data": {
      "text/plain": [
       "(2035, 8)"
      ]
     },
     "execution_count": 4,
     "metadata": {},
     "output_type": "execute_result"
    }
   ],
   "source": [
    "# shape of Dataset\n",
    "data.shape"
   ]
  },
  {
   "cell_type": "code",
   "execution_count": 5,
   "metadata": {},
   "outputs": [
    {
     "data": {
      "text/plain": [
       "Date                    0\n",
       "Open                    0\n",
       "High                    0\n",
       "Low                     0\n",
       "Last                    0\n",
       "Close                   0\n",
       "Total Trade Quantity    0\n",
       "Turnover (Lacs)         0\n",
       "dtype: int64"
      ]
     },
     "execution_count": 5,
     "metadata": {},
     "output_type": "execute_result"
    }
   ],
   "source": [
    "# check for Null information\n",
    "data.isna().sum()"
   ]
  },
  {
   "cell_type": "code",
   "execution_count": 6,
   "metadata": {},
   "outputs": [
    {
     "data": {
      "text/plain": [
       "Date                     object\n",
       "Open                    float64\n",
       "High                    float64\n",
       "Low                     float64\n",
       "Last                    float64\n",
       "Close                   float64\n",
       "Total Trade Quantity      int64\n",
       "Turnover (Lacs)         float64\n",
       "dtype: object"
      ]
     },
     "execution_count": 6,
     "metadata": {},
     "output_type": "execute_result"
    }
   ],
   "source": [
    "# Datatypes of all features\n",
    "data.dtypes"
   ]
  },
  {
   "cell_type": "code",
   "execution_count": 7,
   "metadata": {},
   "outputs": [
    {
     "data": {
      "text/html": [
       "<div>\n",
       "<style scoped>\n",
       "    .dataframe tbody tr th:only-of-type {\n",
       "        vertical-align: middle;\n",
       "    }\n",
       "\n",
       "    .dataframe tbody tr th {\n",
       "        vertical-align: top;\n",
       "    }\n",
       "\n",
       "    .dataframe thead th {\n",
       "        text-align: right;\n",
       "    }\n",
       "</style>\n",
       "<table border=\"1\" class=\"dataframe\">\n",
       "  <thead>\n",
       "    <tr style=\"text-align: right;\">\n",
       "      <th></th>\n",
       "      <th>Open</th>\n",
       "      <th>High</th>\n",
       "      <th>Low</th>\n",
       "      <th>Last</th>\n",
       "      <th>Close</th>\n",
       "      <th>Total Trade Quantity</th>\n",
       "      <th>Turnover (Lacs)</th>\n",
       "    </tr>\n",
       "  </thead>\n",
       "  <tbody>\n",
       "    <tr>\n",
       "      <th>count</th>\n",
       "      <td>2035.000000</td>\n",
       "      <td>2035.000000</td>\n",
       "      <td>2035.000000</td>\n",
       "      <td>2035.000000</td>\n",
       "      <td>2035.00000</td>\n",
       "      <td>2.035000e+03</td>\n",
       "      <td>2035.000000</td>\n",
       "    </tr>\n",
       "    <tr>\n",
       "      <th>mean</th>\n",
       "      <td>149.713735</td>\n",
       "      <td>151.992826</td>\n",
       "      <td>147.293931</td>\n",
       "      <td>149.474251</td>\n",
       "      <td>149.45027</td>\n",
       "      <td>2.335681e+06</td>\n",
       "      <td>3899.980565</td>\n",
       "    </tr>\n",
       "    <tr>\n",
       "      <th>std</th>\n",
       "      <td>48.664509</td>\n",
       "      <td>49.413109</td>\n",
       "      <td>47.931958</td>\n",
       "      <td>48.732570</td>\n",
       "      <td>48.71204</td>\n",
       "      <td>2.091778e+06</td>\n",
       "      <td>4570.767877</td>\n",
       "    </tr>\n",
       "    <tr>\n",
       "      <th>min</th>\n",
       "      <td>81.100000</td>\n",
       "      <td>82.800000</td>\n",
       "      <td>80.000000</td>\n",
       "      <td>81.000000</td>\n",
       "      <td>80.95000</td>\n",
       "      <td>3.961000e+04</td>\n",
       "      <td>37.040000</td>\n",
       "    </tr>\n",
       "    <tr>\n",
       "      <th>25%</th>\n",
       "      <td>120.025000</td>\n",
       "      <td>122.100000</td>\n",
       "      <td>118.300000</td>\n",
       "      <td>120.075000</td>\n",
       "      <td>120.05000</td>\n",
       "      <td>1.146444e+06</td>\n",
       "      <td>1427.460000</td>\n",
       "    </tr>\n",
       "    <tr>\n",
       "      <th>50%</th>\n",
       "      <td>141.500000</td>\n",
       "      <td>143.400000</td>\n",
       "      <td>139.600000</td>\n",
       "      <td>141.100000</td>\n",
       "      <td>141.25000</td>\n",
       "      <td>1.783456e+06</td>\n",
       "      <td>2512.030000</td>\n",
       "    </tr>\n",
       "    <tr>\n",
       "      <th>75%</th>\n",
       "      <td>157.175000</td>\n",
       "      <td>159.400000</td>\n",
       "      <td>155.150000</td>\n",
       "      <td>156.925000</td>\n",
       "      <td>156.90000</td>\n",
       "      <td>2.813594e+06</td>\n",
       "      <td>4539.015000</td>\n",
       "    </tr>\n",
       "    <tr>\n",
       "      <th>max</th>\n",
       "      <td>327.700000</td>\n",
       "      <td>328.750000</td>\n",
       "      <td>321.650000</td>\n",
       "      <td>325.950000</td>\n",
       "      <td>325.75000</td>\n",
       "      <td>2.919102e+07</td>\n",
       "      <td>55755.080000</td>\n",
       "    </tr>\n",
       "  </tbody>\n",
       "</table>\n",
       "</div>"
      ],
      "text/plain": [
       "              Open         High          Low         Last       Close  \\\n",
       "count  2035.000000  2035.000000  2035.000000  2035.000000  2035.00000   \n",
       "mean    149.713735   151.992826   147.293931   149.474251   149.45027   \n",
       "std      48.664509    49.413109    47.931958    48.732570    48.71204   \n",
       "min      81.100000    82.800000    80.000000    81.000000    80.95000   \n",
       "25%     120.025000   122.100000   118.300000   120.075000   120.05000   \n",
       "50%     141.500000   143.400000   139.600000   141.100000   141.25000   \n",
       "75%     157.175000   159.400000   155.150000   156.925000   156.90000   \n",
       "max     327.700000   328.750000   321.650000   325.950000   325.75000   \n",
       "\n",
       "       Total Trade Quantity  Turnover (Lacs)  \n",
       "count          2.035000e+03      2035.000000  \n",
       "mean           2.335681e+06      3899.980565  \n",
       "std            2.091778e+06      4570.767877  \n",
       "min            3.961000e+04        37.040000  \n",
       "25%            1.146444e+06      1427.460000  \n",
       "50%            1.783456e+06      2512.030000  \n",
       "75%            2.813594e+06      4539.015000  \n",
       "max            2.919102e+07     55755.080000  "
      ]
     },
     "execution_count": 7,
     "metadata": {},
     "output_type": "execute_result"
    }
   ],
   "source": [
    "# stastical information \n",
    "data.describe()"
   ]
  },
  {
   "cell_type": "code",
   "execution_count": 8,
   "metadata": {},
   "outputs": [],
   "source": [
    "df2 = data.reset_index()['Close']"
   ]
  },
  {
   "cell_type": "code",
   "execution_count": 9,
   "metadata": {},
   "outputs": [
    {
     "data": {
      "text/plain": [
       "[<matplotlib.lines.Line2D at 0x1b875835310>]"
      ]
     },
     "execution_count": 9,
     "metadata": {},
     "output_type": "execute_result"
    },
    {
     "data": {
      "image/png": "[encoded data removed]",
      "text/plain": [
       "<Figure size 432x288 with 1 Axes>"
      ]
     },
     "metadata": {
      "needs_background": "light"
     },
     "output_type": "display_data"
    }
   ],
   "source": [
    "# Data Representation\n",
    "import matplotlib.pyplot as plt\n",
    "plt.plot(df2)"
   ]
  },
  {
   "cell_type": "markdown",
   "metadata": {},
   "source": [
    "# Feature Scaling"
   ]
  },
  {
   "cell_type": "code",
   "execution_count": 10,
   "metadata": {},
   "outputs": [],
   "source": [
    "# LSTM is very senestive to scale of the data. So apply MinMax scalar"
   ]
  },
  {
   "cell_type": "code",
   "execution_count": 11,
   "metadata": {},
   "outputs": [],
   "source": [
    "import numpy as np"
   ]
  },
  {
   "cell_type": "code",
   "execution_count": 12,
   "metadata": {},
   "outputs": [],
   "source": [
    "from sklearn.preprocessing import MinMaxScaler\n",
    "scalar=MinMaxScaler(feature_range=(0,1))\n",
    "df2=scalar.fit_transform(np.array(df2).reshape(-1,1))"
   ]
  },
  {
   "cell_type": "code",
   "execution_count": 13,
   "metadata": {},
   "outputs": [
    {
     "data": {
      "text/plain": [
       "array([[0.62418301],\n",
       "       [0.62214052],\n",
       "       [0.62622549],\n",
       "       ...,\n",
       "       [0.1621732 ],\n",
       "       [0.16319444],\n",
       "       [0.16584967]])"
      ]
     },
     "execution_count": 13,
     "metadata": {},
     "output_type": "execute_result"
    }
   ],
   "source": [
    "df2"
   ]
  },
  {
   "cell_type": "code",
   "execution_count": 14,
   "metadata": {},
   "outputs": [
    {
     "data": {
      "text/plain": [
       "(2035, 1)"
      ]
     },
     "execution_count": 14,
     "metadata": {},
     "output_type": "execute_result"
    }
   ],
   "source": [
    "df2.shape"
   ]
  },
  {
   "cell_type": "markdown",
   "metadata": {},
   "source": [
    "# Spliting dataset into training and testing"
   ]
  },
  {
   "cell_type": "code",
   "execution_count": 15,
   "metadata": {},
   "outputs": [],
   "source": [
    "training_size = int(len(df2)*0.65)\n",
    "test_size = len(df2)-training_size\n",
    "train_data, test_data = df2[0:training_size,:],df2[training_size:len(df2),:1]"
   ]
  },
  {
   "cell_type": "code",
   "execution_count": 16,
   "metadata": {},
   "outputs": [
    {
     "data": {
      "text/plain": [
       "(1322, 713)"
      ]
     },
     "execution_count": 16,
     "metadata": {},
     "output_type": "execute_result"
    }
   ],
   "source": [
    "training_size, test_size"
   ]
  },
  {
   "cell_type": "code",
   "execution_count": 17,
   "metadata": {},
   "outputs": [],
   "source": [
    "import numpy\n",
    "# convert an array of values into a dataset matrix\n",
    "def create_dataset(dataset, time_step=1):\n",
    "    dataX, dataY = [], []\n",
    "    for i in range(len(dataset)-time_step-1):\n",
    "        a = dataset[i:(i+time_step), 0]\n",
    "        dataX.append(a)\n",
    "        dataY.append(dataset[i+time_step,0])\n",
    "    return numpy.array(dataX), numpy.array(dataY)"
   ]
  },
  {
   "cell_type": "code",
   "execution_count": 18,
   "metadata": {},
   "outputs": [],
   "source": [
    "time_step = 100\n",
    "X_train, y_train = create_dataset(train_data, time_step)\n",
    "X_test, y_test = create_dataset(test_data, time_step)"
   ]
  },
  {
   "cell_type": "code",
   "execution_count": 19,
   "metadata": {},
   "outputs": [
    {
     "data": {
      "text/plain": [
       "(1221, 100)"
      ]
     },
     "execution_count": 19,
     "metadata": {},
     "output_type": "execute_result"
    }
   ],
   "source": [
    "X_train.shape"
   ]
  },
  {
   "cell_type": "code",
   "execution_count": 20,
   "metadata": {},
   "outputs": [
    {
     "data": {
      "text/plain": [
       "(1221,)"
      ]
     },
     "execution_count": 20,
     "metadata": {},
     "output_type": "execute_result"
    }
   ],
   "source": [
    "y_train.shape"
   ]
  },
  {
   "cell_type": "code",
   "execution_count": 21,
   "metadata": {},
   "outputs": [
    {
     "data": {
      "text/plain": [
       "(612, 100)"
      ]
     },
     "execution_count": 21,
     "metadata": {},
     "output_type": "execute_result"
    }
   ],
   "source": [
    "X_test.shape"
   ]
  },
  {
   "cell_type": "code",
   "execution_count": 22,
   "metadata": {},
   "outputs": [
    {
     "data": {
      "text/plain": [
       "(612,)"
      ]
     },
     "execution_count": 22,
     "metadata": {},
     "output_type": "execute_result"
    }
   ],
   "source": [
    "y_test.shape"
   ]
  },
  {
   "cell_type": "code",
   "execution_count": 23,
   "metadata": {},
   "outputs": [],
   "source": [
    "# reshape input to be [samples, time steps, features] which required for LSTM\n",
    "X_train = X_train.reshape(X_train.shape[0], X_train.shape[1],1)\n",
    "X_test = X_test.reshape(X_test.shape[0], X_test.shape[1],1)"
   ]
  },
  {
   "cell_type": "markdown",
   "metadata": {},
   "source": [
    "# Create stacked LSTM model"
   ]
  },
  {
   "cell_type": "code",
   "execution_count": 24,
   "metadata": {},
   "outputs": [],
   "source": [
    "from tensorflow.keras.models import Sequential\n",
    "from tensorflow.keras.layers import Dense\n",
    "from tensorflow.keras.layers import LSTM"
   ]
  },
  {
   "cell_type": "code",
   "execution_count": 25,
   "metadata": {},
   "outputs": [],
   "source": [
    "model = Sequential()\n",
    "model.add(LSTM(50, return_sequences=True, input_shape=(100,1)))\n",
    "model.add(LSTM(50, return_sequences=True))\n",
    "model.add(LSTM(50))\n",
    "model.add(Dense(1))\n",
    "model.compile(loss=\"mean_squared_error\", optimizer='adam')"
   ]
  },
  {
   "cell_type": "code",
   "execution_count": 26,
   "metadata": {},
   "outputs": [
    {
     "name": "stdout",
     "output_type": "stream",
     "text": [
      "Model: \"sequential\"\n",
      "_________________________________________________________________\n",
      " Layer (type)                Output Shape              Param #   \n",
      "=================================================================\n",
      " lstm (LSTM)                 (None, 100, 50)           10400     \n",
      "                                                                 \n",
      " lstm_1 (LSTM)               (None, 100, 50)           20200     \n",
      "                                                                 \n",
      " lstm_2 (LSTM)               (None, 50)                20200     \n",
      "                                                                 \n",
      " dense (Dense)               (None, 1)                 51        \n",
      "                                                                 \n",
      "=================================================================\n",
      "Total params: 50,851\n",
      "Trainable params: 50,851\n",
      "Non-trainable params: 0\n",
      "_________________________________________________________________\n"
     ]
    }
   ],
   "source": [
    "model.summary()"
   ]
  },
  {
   "cell_type": "code",
   "execution_count": 27,
   "metadata": {
    "scrolled": false
   },
   "outputs": [
    {
     "name": "stdout",
     "output_type": "stream",
     "text": [
      "Epoch 1/100\n",
      "20/20 [==============================] - 16s 374ms/step - loss: 0.0280 - val_loss: 0.0063\n",
      "Epoch 2/100\n",
      "20/20 [==============================] - 5s 252ms/step - loss: 0.0035 - val_loss: 0.0019\n",
      "Epoch 3/100\n",
      "20/20 [==============================] - 5s 248ms/step - loss: 0.0021 - val_loss: 0.0013\n",
      "Epoch 4/100\n",
      "20/20 [==============================] - 5s 272ms/step - loss: 0.0019 - val_loss: 0.0015\n",
      "Epoch 5/100\n",
      "20/20 [==============================] - 5s 253ms/step - loss: 0.0017 - val_loss: 0.0015\n",
      "Epoch 6/100\n",
      "20/20 [==============================] - 5s 263ms/step - loss: 0.0017 - val_loss: 0.0015\n",
      "Epoch 7/100\n",
      "20/20 [==============================] - 5s 245ms/step - loss: 0.0016 - val_loss: 0.0015\n",
      "Epoch 8/100\n",
      "20/20 [==============================] - 5s 239ms/step - loss: 0.0016 - val_loss: 0.0012\n",
      "Epoch 9/100\n",
      "20/20 [==============================] - 6s 279ms/step - loss: 0.0014 - val_loss: 0.0010\n",
      "Epoch 10/100\n",
      "20/20 [==============================] - 5s 268ms/step - loss: 0.0015 - val_loss: 8.9623e-04\n",
      "Epoch 11/100\n",
      "20/20 [==============================] - 5s 251ms/step - loss: 0.0015 - val_loss: 8.9342e-04\n",
      "Epoch 12/100\n",
      "20/20 [==============================] - 5s 245ms/step - loss: 0.0012 - val_loss: 9.6837e-04\n",
      "Epoch 13/100\n",
      "20/20 [==============================] - 5s 244ms/step - loss: 0.0013 - val_loss: 0.0011\n",
      "Epoch 14/100\n",
      "20/20 [==============================] - 5s 239ms/step - loss: 0.0013 - val_loss: 9.6780e-04\n",
      "Epoch 15/100\n",
      "20/20 [==============================] - 5s 235ms/step - loss: 0.0013 - val_loss: 0.0010\n",
      "Epoch 16/100\n",
      "20/20 [==============================] - 5s 233ms/step - loss: 0.0011 - val_loss: 0.0012\n",
      "Epoch 17/100\n",
      "20/20 [==============================] - 5s 250ms/step - loss: 9.8400e-04 - val_loss: 8.1995e-04\n",
      "Epoch 18/100\n",
      "20/20 [==============================] - 5s 246ms/step - loss: 9.4510e-04 - val_loss: 7.6118e-04\n",
      "Epoch 19/100\n",
      "20/20 [==============================] - 5s 273ms/step - loss: 9.2900e-04 - val_loss: 8.5822e-04\n",
      "Epoch 20/100\n",
      "20/20 [==============================] - 5s 277ms/step - loss: 8.4550e-04 - val_loss: 7.7330e-04\n",
      "Epoch 21/100\n",
      "20/20 [==============================] - 5s 272ms/step - loss: 8.3656e-04 - val_loss: 7.7596e-04\n",
      "Epoch 22/100\n",
      "20/20 [==============================] - 5s 267ms/step - loss: 8.2997e-04 - val_loss: 0.0014\n",
      "Epoch 23/100\n",
      "20/20 [==============================] - 6s 309ms/step - loss: 8.1090e-04 - val_loss: 7.2344e-04\n",
      "Epoch 24/100\n",
      "20/20 [==============================] - 6s 323ms/step - loss: 7.5367e-04 - val_loss: 8.2750e-04\n",
      "Epoch 25/100\n",
      "20/20 [==============================] - 6s 294ms/step - loss: 7.2156e-04 - val_loss: 0.0010\n",
      "Epoch 26/100\n",
      "20/20 [==============================] - 6s 292ms/step - loss: 7.1712e-04 - val_loss: 7.8939e-04\n",
      "Epoch 27/100\n",
      "20/20 [==============================] - 5s 275ms/step - loss: 7.8035e-04 - val_loss: 6.3361e-04\n",
      "Epoch 28/100\n",
      "20/20 [==============================] - 6s 280ms/step - loss: 8.4267e-04 - val_loss: 0.0012\n",
      "Epoch 29/100\n",
      "20/20 [==============================] - 6s 280ms/step - loss: 8.7364e-04 - val_loss: 6.9779e-04\n",
      "Epoch 30/100\n",
      "20/20 [==============================] - 5s 267ms/step - loss: 8.3728e-04 - val_loss: 6.6456e-04\n",
      "Epoch 31/100\n",
      "20/20 [==============================] - 6s 291ms/step - loss: 7.0625e-04 - val_loss: 0.0010\n",
      "Epoch 32/100\n",
      "20/20 [==============================] - 5s 267ms/step - loss: 7.4592e-04 - val_loss: 9.0052e-04\n",
      "Epoch 33/100\n",
      "20/20 [==============================] - 5s 258ms/step - loss: 6.7747e-04 - val_loss: 6.1927e-04\n",
      "Epoch 34/100\n",
      "20/20 [==============================] - 5s 244ms/step - loss: 6.5139e-04 - val_loss: 5.3404e-04\n",
      "Epoch 35/100\n",
      "20/20 [==============================] - 5s 232ms/step - loss: 6.8775e-04 - val_loss: 5.4419e-04\n",
      "Epoch 36/100\n",
      "20/20 [==============================] - 5s 276ms/step - loss: 7.3231e-04 - val_loss: 6.2597e-04\n",
      "Epoch 37/100\n",
      "20/20 [==============================] - 5s 272ms/step - loss: 5.5899e-04 - val_loss: 5.2993e-04\n",
      "Epoch 38/100\n",
      "20/20 [==============================] - 6s 280ms/step - loss: 5.3013e-04 - val_loss: 7.8393e-04\n",
      "Epoch 39/100\n",
      "20/20 [==============================] - 6s 283ms/step - loss: 5.3076e-04 - val_loss: 5.1151e-04\n",
      "Epoch 40/100\n",
      "20/20 [==============================] - 6s 291ms/step - loss: 5.1368e-04 - val_loss: 5.3223e-04\n",
      "Epoch 41/100\n",
      "20/20 [==============================] - 6s 292ms/step - loss: 5.1914e-04 - val_loss: 6.7924e-04\n",
      "Epoch 42/100\n",
      "20/20 [==============================] - 5s 273ms/step - loss: 5.2057e-04 - val_loss: 4.7651e-04\n",
      "Epoch 43/100\n",
      "20/20 [==============================] - 6s 294ms/step - loss: 4.6772e-04 - val_loss: 6.1274e-04\n",
      "Epoch 44/100\n",
      "20/20 [==============================] - 5s 262ms/step - loss: 5.5250e-04 - val_loss: 4.8762e-04\n",
      "Epoch 45/100\n",
      "20/20 [==============================] - 5s 244ms/step - loss: 4.7583e-04 - val_loss: 5.1072e-04\n",
      "Epoch 46/100\n",
      "20/20 [==============================] - 5s 245ms/step - loss: 4.8288e-04 - val_loss: 5.0346e-04\n",
      "Epoch 47/100\n",
      "20/20 [==============================] - 5s 232ms/step - loss: 4.7274e-04 - val_loss: 4.2818e-04\n",
      "Epoch 48/100\n",
      "20/20 [==============================] - 5s 231ms/step - loss: 4.4528e-04 - val_loss: 5.8906e-04\n",
      "Epoch 49/100\n",
      "20/20 [==============================] - 6s 280ms/step - loss: 4.9794e-04 - val_loss: 4.0862e-04\n",
      "Epoch 50/100\n",
      "20/20 [==============================] - 5s 272ms/step - loss: 5.0119e-04 - val_loss: 4.4464e-04\n",
      "Epoch 51/100\n",
      "20/20 [==============================] - 6s 289ms/step - loss: 4.2686e-04 - val_loss: 4.7133e-04\n",
      "Epoch 52/100\n",
      "20/20 [==============================] - 6s 302ms/step - loss: 4.0378e-04 - val_loss: 4.0472e-04\n",
      "Epoch 53/100\n",
      "20/20 [==============================] - 6s 305ms/step - loss: 4.1114e-04 - val_loss: 3.8862e-04\n",
      "Epoch 54/100\n",
      "20/20 [==============================] - 6s 283ms/step - loss: 3.7560e-04 - val_loss: 4.8634e-04\n",
      "Epoch 55/100\n",
      "20/20 [==============================] - 6s 326ms/step - loss: 3.7317e-04 - val_loss: 3.1764e-04\n",
      "Epoch 56/100\n",
      "20/20 [==============================] - 6s 314ms/step - loss: 4.4011e-04 - val_loss: 3.3782e-04\n",
      "Epoch 57/100\n",
      "20/20 [==============================] - 6s 291ms/step - loss: 4.8200e-04 - val_loss: 5.0445e-04\n",
      "Epoch 58/100\n",
      "20/20 [==============================] - 6s 295ms/step - loss: 4.1675e-04 - val_loss: 3.8690e-04\n",
      "Epoch 59/100\n",
      "20/20 [==============================] - 6s 317ms/step - loss: 3.9344e-04 - val_loss: 3.3823e-04\n",
      "Epoch 60/100\n",
      "20/20 [==============================] - 6s 309ms/step - loss: 3.5065e-04 - val_loss: 4.1888e-04\n",
      "Epoch 61/100\n",
      "20/20 [==============================] - 6s 290ms/step - loss: 3.5190e-04 - val_loss: 3.9321e-04\n",
      "Epoch 62/100\n",
      "20/20 [==============================] - 6s 284ms/step - loss: 3.6303e-04 - val_loss: 4.4158e-04\n",
      "Epoch 63/100\n",
      "20/20 [==============================] - 6s 297ms/step - loss: 3.3366e-04 - val_loss: 3.4106e-04\n",
      "Epoch 64/100\n",
      "20/20 [==============================] - 6s 277ms/step - loss: 3.5156e-04 - val_loss: 5.9374e-04\n",
      "Epoch 65/100\n",
      "20/20 [==============================] - 6s 278ms/step - loss: 3.8306e-04 - val_loss: 2.8946e-04\n",
      "Epoch 66/100\n",
      "20/20 [==============================] - 5s 274ms/step - loss: 3.6572e-04 - val_loss: 2.7587e-04\n",
      "Epoch 67/100\n",
      "20/20 [==============================] - 5s 269ms/step - loss: 3.1773e-04 - val_loss: 4.3237e-04\n",
      "Epoch 68/100\n",
      "20/20 [==============================] - 6s 301ms/step - loss: 3.2197e-04 - val_loss: 2.9946e-04\n",
      "Epoch 69/100\n",
      "20/20 [==============================] - 6s 321ms/step - loss: 4.2513e-04 - val_loss: 3.3328e-04\n",
      "Epoch 70/100\n",
      "20/20 [==============================] - 5s 267ms/step - loss: 3.0466e-04 - val_loss: 2.9954e-04\n",
      "Epoch 71/100\n",
      "20/20 [==============================] - 6s 288ms/step - loss: 2.9339e-04 - val_loss: 3.7354e-04\n",
      "Epoch 72/100\n",
      "20/20 [==============================] - 6s 290ms/step - loss: 2.9401e-04 - val_loss: 3.8412e-04\n",
      "Epoch 73/100\n",
      "20/20 [==============================] - 6s 296ms/step - loss: 3.0268e-04 - val_loss: 3.6831e-04\n",
      "Epoch 74/100\n",
      "20/20 [==============================] - 6s 326ms/step - loss: 2.9568e-04 - val_loss: 3.8021e-04\n",
      "Epoch 75/100\n",
      "20/20 [==============================] - 7s 344ms/step - loss: 3.1106e-04 - val_loss: 3.1888e-04\n",
      "Epoch 76/100\n"
     ]
    },
    {
     "name": "stdout",
     "output_type": "stream",
     "text": [
      "20/20 [==============================] - 6s 312ms/step - loss: 3.5095e-04 - val_loss: 2.8289e-04\n",
      "Epoch 77/100\n",
      "20/20 [==============================] - 6s 283ms/step - loss: 3.9106e-04 - val_loss: 4.7554e-04\n",
      "Epoch 78/100\n",
      "20/20 [==============================] - 5s 260ms/step - loss: 3.5872e-04 - val_loss: 2.6836e-04\n",
      "Epoch 79/100\n",
      "20/20 [==============================] - 6s 279ms/step - loss: 2.8364e-04 - val_loss: 3.1613e-04\n",
      "Epoch 80/100\n",
      "20/20 [==============================] - 5s 272ms/step - loss: 2.7879e-04 - val_loss: 2.7398e-04\n",
      "Epoch 81/100\n",
      "20/20 [==============================] - 5s 248ms/step - loss: 2.5773e-04 - val_loss: 2.7793e-04\n",
      "Epoch 82/100\n",
      "20/20 [==============================] - 5s 253ms/step - loss: 2.6468e-04 - val_loss: 3.4681e-04\n",
      "Epoch 83/100\n",
      "20/20 [==============================] - 5s 274ms/step - loss: 2.5850e-04 - val_loss: 3.0676e-04\n",
      "Epoch 84/100\n",
      "20/20 [==============================] - 6s 278ms/step - loss: 2.7272e-04 - val_loss: 2.9690e-04\n",
      "Epoch 85/100\n",
      "20/20 [==============================] - 5s 278ms/step - loss: 2.6192e-04 - val_loss: 2.6380e-04\n",
      "Epoch 86/100\n",
      "20/20 [==============================] - 5s 262ms/step - loss: 2.5266e-04 - val_loss: 3.0452e-04\n",
      "Epoch 87/100\n",
      "20/20 [==============================] - 6s 284ms/step - loss: 3.1612e-04 - val_loss: 2.3877e-04\n",
      "Epoch 88/100\n",
      "20/20 [==============================] - 6s 282ms/step - loss: 2.9431e-04 - val_loss: 2.3913e-04\n",
      "Epoch 89/100\n",
      "20/20 [==============================] - 5s 264ms/step - loss: 3.2733e-04 - val_loss: 2.5204e-04\n",
      "Epoch 90/100\n",
      "20/20 [==============================] - 6s 284ms/step - loss: 2.5797e-04 - val_loss: 2.6130e-04\n",
      "Epoch 91/100\n",
      "20/20 [==============================] - 5s 246ms/step - loss: 2.3314e-04 - val_loss: 3.5618e-04\n",
      "Epoch 92/100\n",
      "20/20 [==============================] - 5s 238ms/step - loss: 2.9562e-04 - val_loss: 2.5874e-04\n",
      "Epoch 93/100\n",
      "20/20 [==============================] - 5s 240ms/step - loss: 2.9520e-04 - val_loss: 2.4184e-04\n",
      "Epoch 94/100\n",
      "20/20 [==============================] - 5s 236ms/step - loss: 3.4264e-04 - val_loss: 2.9299e-04\n",
      "Epoch 95/100\n",
      "20/20 [==============================] - 5s 236ms/step - loss: 2.9927e-04 - val_loss: 3.4760e-04\n",
      "Epoch 96/100\n",
      "20/20 [==============================] - 5s 265ms/step - loss: 2.6890e-04 - val_loss: 2.6852e-04\n",
      "Epoch 97/100\n",
      "20/20 [==============================] - 6s 282ms/step - loss: 2.6568e-04 - val_loss: 2.1047e-04\n",
      "Epoch 98/100\n",
      "20/20 [==============================] - 5s 268ms/step - loss: 2.2417e-04 - val_loss: 2.3077e-04\n",
      "Epoch 99/100\n",
      "20/20 [==============================] - 5s 239ms/step - loss: 4.4818e-04 - val_loss: 2.1988e-04\n",
      "Epoch 100/100\n",
      "20/20 [==============================] - 5s 263ms/step - loss: 3.0230e-04 - val_loss: 3.0897e-04\n"
     ]
    },
    {
     "data": {
      "text/plain": [
       "<keras.callbacks.History at 0x1b8002dad90>"
      ]
     },
     "execution_count": 27,
     "metadata": {},
     "output_type": "execute_result"
    }
   ],
   "source": [
    "# fit the model\n",
    "model.fit(X_train, y_train, validation_data=(X_test,y_test), epochs=100, batch_size=64, verbose=1)"
   ]
  },
  {
   "cell_type": "code",
   "execution_count": 28,
   "metadata": {},
   "outputs": [],
   "source": [
    "# Do the prediction and check performance matrix\n",
    "train_predict = model.predict(X_train)\n",
    "test_predict = model.predict(X_test)"
   ]
  },
  {
   "cell_type": "code",
   "execution_count": 29,
   "metadata": {},
   "outputs": [],
   "source": [
    "# transform to original form\n",
    "train_predict = scalar.inverse_transform(train_predict)\n",
    "test_predict = scalar.inverse_transform(test_predict)"
   ]
  },
  {
   "cell_type": "code",
   "execution_count": 30,
   "metadata": {},
   "outputs": [
    {
     "data": {
      "text/plain": [
       "169.36294104381983"
      ]
     },
     "execution_count": 30,
     "metadata": {},
     "output_type": "execute_result"
    }
   ],
   "source": [
    "# Calculate RMSE value \n",
    "import math\n",
    "from sklearn.metrics import mean_squared_error\n",
    "math.sqrt(mean_squared_error(y_train,train_predict))"
   ]
  },
  {
   "cell_type": "code",
   "execution_count": 31,
   "metadata": {},
   "outputs": [
    {
     "data": {
      "text/plain": [
       "117.49804822778535"
      ]
     },
     "execution_count": 31,
     "metadata": {},
     "output_type": "execute_result"
    }
   ],
   "source": [
    "# Test data RMSE\n",
    "math.sqrt(mean_squared_error(y_test,test_predict))"
   ]
  },
  {
   "cell_type": "code",
   "execution_count": 32,
   "metadata": {},
   "outputs": [
    {
     "data": {
      "image/png": "[encoded data removed]",
      "text/plain": [
       "<Figure size 432x288 with 1 Axes>"
      ]
     },
     "metadata": {
      "needs_background": "light"
     },
     "output_type": "display_data"
    }
   ],
   "source": [
    "# Graph plot\n",
    "# shift train predictions for plotting\n",
    "look_back = 100\n",
    "trainPredictPlot = numpy.empty_like(df2)\n",
    "trainPredictPlot[:, :] = np.nan\n",
    "trainPredictPlot[look_back:len(train_predict)+look_back, :] = train_predict\n",
    "\n",
    "# shift test predictions for plotting\n",
    "testPredictPlot = numpy.empty_like(df2)\n",
    "testPredictPlot[:, :] = np.nan\n",
    "testPredictPlot[len(train_predict)+(look_back*2)+1:len(df2)-1, :] = test_predict\n",
    "\n",
    "# plot baseline and prediction\n",
    "plt.plot(scalar.inverse_transform(df2))\n",
    "plt.plot(trainPredictPlot)\n",
    "plt.plot(testPredictPlot)\n",
    "plt.show()"
   ]
  },
  {
   "cell_type": "code",
   "execution_count": null,
   "metadata": {},
   "outputs": [],
   "source": []
  }
 ],
 "metadata": {
  "kernelspec": {
   "display_name": "Python 3",
   "language": "python",
   "name": "python3"
  },
  "language_info": {
   "codemirror_mode": {
    "name": "ipython",
    "version": 3
   },
   "file_extension": ".py",
   "mimetype": "text/x-python",
   "name": "python",
   "nbconvert_exporter": "python",
   "pygments_lexer": "ipython3",
   "version": "3.8.5"
  }
 },
 "nbformat": 4,
 "nbformat_minor": 4
}
